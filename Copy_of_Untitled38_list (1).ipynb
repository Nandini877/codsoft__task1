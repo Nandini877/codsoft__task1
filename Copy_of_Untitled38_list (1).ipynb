{
  "nbformat": 4,
  "nbformat_minor": 0,
  "metadata": {
    "colab": {
      "provenance": []
    },
    "kernelspec": {
      "name": "python3",
      "display_name": "Python 3"
    },
    "language_info": {
      "name": "python"
    }
  },
  "cells": [
    {
      "cell_type": "code",
      "source": [
        "tasks = []\n",
        "\n",
        "def show_tasks():\n",
        "    if not tasks:\n",
        "        print(\"No tasks in the To-Do list.\")\n",
        "    else:\n",
        "        print(\"Tasks in the To-Do list:\")\n",
        "        for i, task in enumerate(tasks, 1):\n",
        "            print(f\"{i}. {task}\")\n",
        "\n",
        "def add_task(task):\n",
        "    tasks.append(task)\n",
        "    print(f\"Task '{task}' added to the To-Do list.\")\n",
        "\n",
        "def delete_task(task_index):\n",
        "    if 1 <= task_index <= len(tasks):\n",
        "        deleted_task = tasks.pop(task_index - 1)\n",
        "        print(f\"Task '{deleted_task}' deleted from the To-Do list.\")\n",
        "    else:\n",
        "        print(\"Invalid task index.\")\n",
        "\n",
        "def main():\n",
        "    while True:\n",
        "        print(\"\\n1. Show Tasks\\n2. Add Task\\n3. Delete Task\\n4. Exit\")\n",
        "        choice = input(\"Enter your choice: \")\n",
        "\n",
        "        if choice == \"1\":\n",
        "            show_tasks()\n",
        "        elif choice == \"2\":\n",
        "            task = input(\"Enter task to add: \")\n",
        "            add_task(task)\n",
        "        elif choice == \"3\":\n",
        "            show_tasks()\n",
        "            task_index = int(input(\"Enter the task number to delete: \"))\n",
        "            delete_task(task_index)\n",
        "        elif choice == \"4\":\n",
        "            print(\"Exiting the To-Do List application.\")\n",
        "            break\n",
        "        else:\n",
        "            print(\"Invalid choice. Please try again.\")\n",
        "\n",
        "if __name__ == \"__main__\":\n",
        "    main()"
      ],
      "metadata": {
        "colab": {
          "base_uri": "https://localhost:8080/"
        },
        "id": "YAePn8KzKt_q",
        "outputId": "3c9ba2fe-7987-4573-cbd5-5ed968ecf804"
      },
      "execution_count": null,
      "outputs": [
        {
          "output_type": "stream",
          "name": "stdout",
          "text": [
            "\n",
            "1. Show Tasks\n",
            "2. Add Task\n",
            "3. Delete Task\n",
            "4. Exit\n",
            "Enter your choice: study everyday\n",
            "Invalid choice. Please try again.\n",
            "\n",
            "1. Show Tasks\n",
            "2. Add Task\n",
            "3. Delete Task\n",
            "4. Exit\n",
            "Enter your choice: run evereyday\n",
            "Invalid choice. Please try again.\n",
            "\n",
            "1. Show Tasks\n",
            "2. Add Task\n",
            "3. Delete Task\n",
            "4. Exit\n",
            "Enter your choice: 1\n",
            "No tasks in the To-Do list.\n",
            "\n",
            "1. Show Tasks\n",
            "2. Add Task\n",
            "3. Delete Task\n",
            "4. Exit\n",
            "Enter your choice: 4\n",
            "Exiting the To-Do List application.\n"
          ]
        }
      ]
    },
    {
      "cell_type": "code",
      "source": [],
      "metadata": {
        "id": "ui3hJVitXOJN"
      },
      "execution_count": null,
      "outputs": []
    },
    {
      "cell_type": "code",
      "source": [],
      "metadata": {
        "id": "HFzlm7xnXRc0"
      },
      "execution_count": null,
      "outputs": []
    },
    {
      "cell_type": "code",
      "source": [],
      "metadata": {
        "id": "P_T3KnvUXR76"
      },
      "execution_count": null,
      "outputs": []
    },
    {
      "cell_type": "code",
      "source": [],
      "metadata": {
        "id": "z7RBGzDuXSJ4"
      },
      "execution_count": null,
      "outputs": []
    }
  ]
}